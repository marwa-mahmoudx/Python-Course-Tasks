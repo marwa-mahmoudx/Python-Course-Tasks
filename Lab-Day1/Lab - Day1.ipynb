{
 "cells": [
  {
   "cell_type": "code",
   "execution_count": 1,
   "id": "3970ba4a",
   "metadata": {},
   "outputs": [],
   "source": [
    "# Python lab DAY1"
   ]
  },
  {
   "cell_type": "code",
   "execution_count": 21,
   "id": "eb7bbd01",
   "metadata": {},
   "outputs": [
    {
     "name": "stdout",
     "output_type": "stream",
     "text": [
      "Firstname: Marwa\n",
      "Lastname:Mahmoud\n",
      "Email: MarwaMahmmoud5861@gmail.com\n",
      "Address: Alexandria\n",
      "Intake: 3\n"
     ]
    }
   ],
   "source": [
    "## 1- add your info in Variables then print them.\n",
    "\n",
    "firstname = 'Marwa'\n",
    "lastname = 'Mahmoud'\n",
    "email = 'MarwaMahmmoud5861@gmail.com'\n",
    "address = 'Alexandria'\n",
    "intake = 3\n",
    "\n",
    "print(f'''\n",
    "Firstname: {firstname}\n",
    "Lastname:{lastname}\n",
    "Email: {email}\n",
    "Address: {address}\n",
    "Intake: {intake}\n",
    "''')"
   ]
  },
  {
   "cell_type": "code",
   "execution_count": 10,
   "id": "d1b3d4da",
   "metadata": {},
   "outputs": [
    {
     "name": "stdout",
     "output_type": "stream",
     "text": [
      " I'm Marwa, \n",
      "a Computer & Data Science graduate,\n",
      "Majoring in Healthcare Analytics & Data Science\n",
      "year 2023 Alexandria University.\n",
      "Currently, I'm an intern at ITI Data Engineering Track. \n",
      "\n"
     ]
    }
   ],
   "source": [
    "# 2-write a paragraph about yourself in 5 lines-make sure that the string is stored as a multiline string- and print it\n",
    "\n",
    "MyParagraph = ''' I'm Marwa, \n",
    "a Computer & Data Science graduate,\n",
    "Majoring in Healthcare Analytics & Data Science\n",
    "year 2023 Alexandria University.\n",
    "Currently, I'm an intern at ITI Data Engineering Track. \n",
    "'''\n",
    "\n",
    "print(MyParagraph)"
   ]
  },
  {
   "cell_type": "code",
   "execution_count": 32,
   "id": "999d4adc",
   "metadata": {},
   "outputs": [
    {
     "name": "stdout",
     "output_type": "stream",
     "text": [
      "Enter Grade: 60\n",
      "Passed\n"
     ]
    }
   ],
   "source": [
    "# 3- Given the total marks of a student→ write a program that prints the\n",
    "#   grade of a student as follows:\n",
    "#    Grade < 60 failed.\n",
    "#    Grade >= 60 passed.\n",
    "#    Grade >= 65 Good.\n",
    "#    Grade >= 75 very good.\n",
    "#    Grade >= 85 Excellent.\n",
    "\n",
    "Grade = input(\"Enter Grade: \")\n",
    "Grade = int(Grade)\n",
    "\n",
    "if Grade < 60:\n",
    "    print('Failed')\n",
    "\n",
    "elif Grade >= 60:  \n",
    "    print('Passed')\n",
    "    \n",
    "elif Grade >= 65:  \n",
    "    print('Good')\n",
    "    \n",
    "elif Grade >= 75:  \n",
    "    print('Very Good') \n",
    "    \n",
    "elif Grade >= 85:    \n",
    "    print('Excellent')\n",
    "    \n"
   ]
  },
  {
   "cell_type": "code",
   "execution_count": 33,
   "id": "0d89bd44",
   "metadata": {},
   "outputs": [
    {
     "name": "stdout",
     "output_type": "stream",
     "text": [
      "Enter Temperature: 25\n",
      "Weather is fine\n"
     ]
    }
   ],
   "source": [
    "# 4-Write a program that prints the weather state according to the temperature\n",
    "# ● If the temperature > 25 then print “the weather is hot”\n",
    "# ● If the temperature < 25 print “the weather is cold”\n",
    "# ● If the temperature = 25 then print the “weather is fine\n",
    "\n",
    "Temperature = input(\"Enter Temperature: \")\n",
    "Temperature = int(Temperature)\n",
    "\n",
    "if Temperature > 25:\n",
    "    print('The weather is hot')\n",
    "\n",
    "elif Temperature < 25:\n",
    "    print('The weather is cold')\n",
    "    \n",
    "elif Temperature == 25:\n",
    "    print('Weather is fine')"
   ]
  },
  {
   "cell_type": "code",
   "execution_count": 34,
   "id": "64fd314e",
   "metadata": {},
   "outputs": [
    {
     "name": "stdout",
     "output_type": "stream",
     "text": [
      "Enter Number: -1\n",
      "Number is Negative\n"
     ]
    }
   ],
   "source": [
    "#  5- write a program that checks if the number is greater than 0 and then prints positive else prints negative\n",
    "\n",
    "Number = input(\"Enter Number: \")\n",
    "Number = int(Number)\n",
    "\n",
    "if Number >= 0:\n",
    "    print('Number is Positive ')\n",
    "  \n",
    "else:\n",
    "    print('Number is Negative')\n",
    "    "
   ]
  },
  {
   "cell_type": "code",
   "execution_count": 30,
   "id": "009c993c",
   "metadata": {},
   "outputs": [
    {
     "name": "stdout",
     "output_type": "stream",
     "text": [
      "\n",
      "Variable Types\n",
      "--------------\n",
      "Firstname: <class 'str'> \n",
      "Lastname: <class 'str'>\n",
      "Email: <class 'str'>\n",
      "Address: <class 'str'>\n",
      "Intake: <class 'str'>\n",
      "MyParagraph: <class 'str'>\n",
      "Grade: <class 'int'>\n",
      "Temperature: <class 'int'>\n",
      "Number: <class 'int'>\n",
      "\n"
     ]
    }
   ],
   "source": [
    "#  6- print the types of variables you entered before\n",
    "\n",
    "print(f'''\n",
    "Variable Types\n",
    "--------------\n",
    "Firstname: {type(firstname)} \n",
    "Lastname: {type(lastname)}\n",
    "Email: {type(email)}\n",
    "Address: {type(address)}\n",
    "Intake: {type(firstname)}\n",
    "MyParagraph: {type(MyParagraph)}\n",
    "Grade: {type(Grade)}\n",
    "Temperature: {type(Temperature)}\n",
    "Number: {type(Number)}\n",
    "''')\n"
   ]
  },
  {
   "cell_type": "code",
   "execution_count": 31,
   "id": "ac38f2c2",
   "metadata": {},
   "outputs": [
    {
     "name": "stdout",
     "output_type": "stream",
     "text": [
      "\n",
      "Sum = 30\n",
      "Difference = -10\n",
      "Mutiplication = 200\n",
      "Division = 0.5\n",
      "\n"
     ]
    }
   ],
   "source": [
    "# 7- given 2 numbers\n",
    "# Num1 =10\n",
    "# Num2 =20\n",
    "# Calculate the sum, diff, multiply, and division of the 2 numbers\n",
    "\n",
    "Num1 = 10\n",
    "Num2 = 20\n",
    "\n",
    "print(f'''\n",
    "Sum = {Num1 + Num2}\n",
    "Difference = {Num1 - Num2}\n",
    "Mutiplication = {Num1 * Num2}\n",
    "Division = {Num1/Num2}\n",
    "''')"
   ]
  },
  {
   "cell_type": "code",
   "execution_count": null,
   "id": "b4270020",
   "metadata": {},
   "outputs": [],
   "source": []
  }
 ],
 "metadata": {
  "kernelspec": {
   "display_name": "Python 3 (ipykernel)",
   "language": "python",
   "name": "python3"
  },
  "language_info": {
   "codemirror_mode": {
    "name": "ipython",
    "version": 3
   },
   "file_extension": ".py",
   "mimetype": "text/x-python",
   "name": "python",
   "nbconvert_exporter": "python",
   "pygments_lexer": "ipython3",
   "version": "3.10.9"
  }
 },
 "nbformat": 4,
 "nbformat_minor": 5
}
