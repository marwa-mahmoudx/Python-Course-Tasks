{
 "cells": [
  {
   "cell_type": "markdown",
   "id": "e3115fbc",
   "metadata": {},
   "source": [
    "# Python - Task Day 3 "
   ]
  },
  {
   "cell_type": "markdown",
   "id": "9f3fd045",
   "metadata": {},
   "source": [
    "## 1- Write a function that accepts two arguments (length, start) to generate an array of a specific length filled with integer numbers increased by one from start."
   ]
  },
  {
   "cell_type": "code",
   "execution_count": 10,
   "id": "a4ab0433",
   "metadata": {},
   "outputs": [],
   "source": [
    "def genNums(length, start):\n",
    "\n",
    "    for i in range(0, length):\n",
    "        print(start)\n",
    "        start += 1       "
   ]
  },
  {
   "cell_type": "code",
   "execution_count": 11,
   "id": "e392cdf8",
   "metadata": {},
   "outputs": [
    {
     "name": "stdout",
     "output_type": "stream",
     "text": [
      "4\n",
      "5\n",
      "6\n",
      "7\n",
      "8\n"
     ]
    }
   ],
   "source": [
    "genNums(5, 4)"
   ]
  },
  {
   "cell_type": "markdown",
   "id": "d70d682e",
   "metadata": {},
   "source": [
    "## 2- Write a function that takes a number as an argument and if the number divisible by 3 return \"Fizz\" and if it is divisible by 5 return \"buzz\" and if is is divisible by both return \"FizzBuzz\""
   ]
  },
  {
   "cell_type": "code",
   "execution_count": 20,
   "id": "0325b954",
   "metadata": {},
   "outputs": [],
   "source": [
    "def isdiv(num):\n",
    "    if num.isdigit():\n",
    "    num = int(num)\n",
    "    \n",
    "        if num%3 == 0 & num%5 == 0:\n",
    "            print('FizzBuzz')\n",
    "\n",
    "        elif num%3 == 0:\n",
    "            print('Fizz')\n",
    "\n",
    "        elif num%5 == 0:\n",
    "            print('Buzz')\n",
    "\n",
    "        else:\n",
    "            print('Not Applicable')\n",
    "                \n",
    "    else:\n",
    "          print('Entry not accepted, Please Enter Numeric Value')"
   ]
  },
  {
   "cell_type": "code",
   "execution_count": 21,
   "id": "738b1b31",
   "metadata": {},
   "outputs": [
    {
     "name": "stdout",
     "output_type": "stream",
     "text": [
      "Buzz\n"
     ]
    }
   ],
   "source": [
    "isdiv(5)"
   ]
  },
  {
   "cell_type": "markdown",
   "id": "b414997e",
   "metadata": {},
   "source": [
    "## 3- Write a function which has an input of a string from user then it will return the same string reversed."
   ]
  },
  {
   "cell_type": "code",
   "execution_count": 24,
   "id": "8659782a",
   "metadata": {},
   "outputs": [],
   "source": [
    "def revinput(inp):\n",
    "    \n",
    "    return inp[::-1]"
   ]
  },
  {
   "cell_type": "code",
   "execution_count": 25,
   "id": "1324289f",
   "metadata": {},
   "outputs": [
    {
     "name": "stdout",
     "output_type": "stream",
     "text": [
      "Enter InputInformation\n",
      "noitamrofnI\n"
     ]
    }
   ],
   "source": [
    "inpt = input('Please Enter Input')\n",
    "\n",
    "print(revinput(inpt))"
   ]
  },
  {
   "cell_type": "markdown",
   "id": "da1c4cfd",
   "metadata": {},
   "source": [
    "## 4- Ask the user for his name then confirm that he has entered his name(not an empty string/integers). then proceed to ask him for his email and print all this data(Bonus) check if it is a valid email or not"
   ]
  },
  {
   "cell_type": "code",
   "execution_count": 1,
   "id": "ce204b69",
   "metadata": {},
   "outputs": [],
   "source": [
    "import re"
   ]
  },
  {
   "cell_type": "code",
   "execution_count": 2,
   "id": "0fa7ea74",
   "metadata": {},
   "outputs": [],
   "source": [
    "#def email():\n",
    " #   while True:\n",
    "  #      email = input('Please Enter Email ')\n",
    "   #     if '@' in email and '.' in email:"
   ]
  },
  {
   "cell_type": "code",
   "execution_count": null,
   "id": "ce4fb349",
   "metadata": {},
   "outputs": [],
   "source": [
    "def usrName():\n",
    "    while True:\n",
    "        name = input('Please Enter your name ').strip()\n",
    "        if name and not name.isdigit() and name.isalpha():\n",
    "            return name\n",
    "        else:\n",
    "            print('Invalid input')\n",
    "            \n",
    "#BONUS - Search---    \n",
    "def valid_email():\n",
    "    while True:\n",
    "        email = input(\"Please Enter your email \").strip()\n",
    "        \n",
    "        # Basic email validation regex\n",
    "        email_regex = r'^[a-zA-Z0-9._%+-]+@[a-zA-Z0-9.-]+\\.[a-zA-Z]{2,}$'\n",
    "        if re.match(email_regex, email):\n",
    "            return email\n",
    "        else:\n",
    "            print(\"Invalid email. Please enter a valid email address.\")          "
   ]
  },
  {
   "cell_type": "code",
   "execution_count": null,
   "id": "0053e0d3",
   "metadata": {},
   "outputs": [],
   "source": [
    "name = usrName()\n",
    "email = valid_email()\n",
    "    \n",
    "print(f\"Name: {name}\")\n",
    "print(f\"Email: {email}\")  "
   ]
  },
  {
   "cell_type": "markdown",
   "id": "0454cbac",
   "metadata": {},
   "source": [
    "## 5- Write a function that takes a string and prints the longest alphabetical ordered substring occurred For example, if the string is 'abdulrahman' then the output is: Longest substring in alphabetical order is: abdu"
   ]
  },
  {
   "cell_type": "code",
   "execution_count": 17,
   "id": "e91e8297",
   "metadata": {},
   "outputs": [],
   "source": [
    "def longest_alph_Ss(s):\n",
    "    if len(s) == 0:\n",
    "        return \"String is empty\"\n",
    "\n",
    "    lngst_Ss = ''\n",
    "    crnt_Ss = ''\n",
    "\n",
    "    for char in s:\n",
    "        if not crnt_Ss or char >= crnt_Ss[-1]:\n",
    "            crnt_Ss += char\n",
    "        else:\n",
    "            if len(crnt_Ss) > len(lngst_Ss):\n",
    "                lngst_Ss = crnt_Ss\n",
    "            crnt_Ss = char\n",
    "\n",
    "    if len(crnt_Ss) > len(lngst_Ss):\n",
    "        lngst_Ss = crnt_Ss\n",
    "\n",
    "    return \"Longest Substring in Alphabetical Order is: \" + lngst_Ss"
   ]
  },
  {
   "cell_type": "code",
   "execution_count": 18,
   "id": "b3d4d1a7",
   "metadata": {},
   "outputs": [
    {
     "name": "stdout",
     "output_type": "stream",
     "text": [
      "Please Enter Inputabdelrahman\n",
      "Longest Substring in Alphabetical Order is: abdelr\n"
     ]
    }
   ],
   "source": [
    "inpt = input('Please Enter Input')\n",
    "\n",
    "print(longest_alph_Ss(inpt))"
   ]
  },
  {
   "cell_type": "markdown",
   "id": "71529182",
   "metadata": {},
   "source": [
    "## 6- Write a program which repeatedly reads numbers until the user enters “done”.\n",
    "### ○ Once “done” is entered, print out the total, count, and average of the numbers.\n",
    "### ○ If the user enters anything other than a number, detect their mistake, print an error message and skip to the next number."
   ]
  },
  {
   "cell_type": "code",
   "execution_count": 10,
   "id": "b105a4cf",
   "metadata": {},
   "outputs": [
    {
     "name": "stdout",
     "output_type": "stream",
     "text": [
      "Please Enter Input3\n",
      "Please Enter Input5\n",
      "Please Enter Input5\n",
      "Please Enter Input8\n",
      "Please Enter Input2\n",
      "Please Enter Input10\n",
      "Please Enter Inputdone\n",
      "Total = 33\n",
      "                \n",
      "          Count = 6\n",
      "              \n",
      "          Average = 5.5 \n"
     ]
    }
   ],
   "source": [
    "entry_list = []\n",
    "\n",
    "while True:\n",
    "    \n",
    "    inpt = input('Please Enter Input')\n",
    "\n",
    "    if inpt.lower() == 'done':\n",
    "        break\n",
    "\n",
    "    if inpt.isdigit():\n",
    "        inpt = int(inpt)\n",
    "        entry_list.append(inpt)\n",
    "\n",
    "    else:\n",
    "        print('Entry not accepted, Please Enter Numeric Value')\n",
    "    \n",
    "\n",
    "print(f'''Total = {sum(entry_list)}\n",
    "                \n",
    "          Count = {len(entry_list)}\n",
    "              \n",
    "          Average = {sum(entry_list)/len(entry_list)} ''')     #loop"
   ]
  },
  {
   "cell_type": "markdown",
   "id": "3d30707b",
   "metadata": {},
   "source": [
    "## 7- Word guessing game (hangman)\n",
    "### ○ A list of words will be hardcoded in your program, out of which the interpreter will\n",
    "### ○ choose 1 random word.\n",
    "### ○ The user first must input their names\n",
    "### ○ Ask the user to guess any alphabet. If the random word contains that alphabet, it\n",
    "### ○ will be shown as the output(with correct placement)\n",
    "### ○ Else the program will ask you to guess another alphabet.\n",
    "### ○ Give 7 turns maximum to guess the complete word."
   ]
  },
  {
   "cell_type": "code",
   "execution_count": null,
   "id": "ffe87fe5",
   "metadata": {},
   "outputs": [],
   "source": [
    "#set and pop"
   ]
  },
  {
   "cell_type": "code",
   "execution_count": 22,
   "id": "1a5e0428",
   "metadata": {},
   "outputs": [],
   "source": [
    "def get_word():\n",
    "    words_set = {'Java', 'Scala', 'Python', 'Csharp', 'JavaScript', 'HTML', 'Cplus'}\n",
    "    word = words_set.pop().lower()\n",
    "    return word\n",
    "\n",
    "def game():\n",
    "    word = get_word()\n",
    "    \n",
    "    all_guesses = set() #es2aly leh msh radya keda = {}\n",
    "    \n",
    "    correct_guesses = set()\n",
    "    \n",
    "    name = input('Please Enter you Name to Play')\n",
    "    \n",
    "    displayed_word = [\"_\"] * len(word)\n",
    "    \n",
    "    counter = 0\n",
    "    \n",
    "    while counter < 7 and ''.join(displayed_word) != word:\n",
    "        print(f'''what you guessed till now:\n",
    "                    {' '.join(displayed_word)}''')\n",
    "        #guessed_letter = {}\n",
    "        guessed_letter = input('Enter the letter you guessed').lower()\n",
    "        \n",
    "        if guessed_letter in all_guesses:\n",
    "            print('You already chose this letter')\n",
    "            continue\n",
    "            \n",
    "        all_guesses.add(guessed_letter)\n",
    "            \n",
    "        if guessed_letter in word:\n",
    "            print(\"Right guess :) \")\n",
    "            \n",
    "            for index, letter in enumerate(word):\n",
    "                if letter == guessed_letter:\n",
    "                    displayed_word[index] = guessed_letter\n",
    "            correct_guesses.add(guessed_letter)\n",
    "        else:\n",
    "            print('Wrong Guess :( ')            \n",
    "            counter += 1\n",
    "            print(f'Turns remaining = {7-counter}')\n",
    "                \n",
    "\n",
    "    if ''.join(displayed_word) == word:\n",
    "        print(f'Congratulations you won {word}')\n",
    "    else:\n",
    "\n",
    "        print(f'Unfortunatly you lost..the word was {word}')"
   ]
  },
  {
   "cell_type": "code",
   "execution_count": 23,
   "id": "e02c6f73",
   "metadata": {},
   "outputs": [
    {
     "name": "stdout",
     "output_type": "stream",
     "text": [
      "Please Enter you Name to Playmarwa\n",
      "what you guessed till now:\n",
      "                    _ _ _ _ _ _ _ _ _ _\n",
      "Enter the letter you guesseda\n",
      "Right guess :) \n",
      "what you guessed till now:\n",
      "                    _ a _ a _ _ _ _ _ _\n",
      "Enter the letter you guessedj\n",
      "Right guess :) \n",
      "what you guessed till now:\n",
      "                    j a _ a _ _ _ _ _ _\n",
      "Enter the letter you guessedv\n",
      "Right guess :) \n",
      "what you guessed till now:\n",
      "                    j a v a _ _ _ _ _ _\n",
      "Enter the letter you guesseds\n",
      "Right guess :) \n",
      "what you guessed till now:\n",
      "                    j a v a s _ _ _ _ _\n",
      "Enter the letter you guessedc\n",
      "Right guess :) \n",
      "what you guessed till now:\n",
      "                    j a v a s c _ _ _ _\n",
      "Enter the letter you guessedr\n",
      "Right guess :) \n",
      "what you guessed till now:\n",
      "                    j a v a s c r _ _ _\n",
      "Enter the letter you guessedi\n",
      "Right guess :) \n",
      "what you guessed till now:\n",
      "                    j a v a s c r i _ _\n",
      "Enter the letter you guessedp\n",
      "Right guess :) \n",
      "what you guessed till now:\n",
      "                    j a v a s c r i p _\n",
      "Enter the letter you guessedt\n",
      "Right guess :) \n",
      "Congratulations you won javascript\n"
     ]
    }
   ],
   "source": [
    "game()"
   ]
  },
  {
   "cell_type": "code",
   "execution_count": null,
   "id": "859b84d7",
   "metadata": {},
   "outputs": [],
   "source": []
  }
 ],
 "metadata": {
  "kernelspec": {
   "display_name": "Python 3 (ipykernel)",
   "language": "python",
   "name": "python3"
  },
  "language_info": {
   "codemirror_mode": {
    "name": "ipython",
    "version": 3
   },
   "file_extension": ".py",
   "mimetype": "text/x-python",
   "name": "python",
   "nbconvert_exporter": "python",
   "pygments_lexer": "ipython3",
   "version": "3.10.9"
  }
 },
 "nbformat": 4,
 "nbformat_minor": 5
}
