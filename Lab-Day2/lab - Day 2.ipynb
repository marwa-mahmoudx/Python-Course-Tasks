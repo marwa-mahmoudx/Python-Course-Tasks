{
 "cells": [
  {
   "cell_type": "markdown",
   "id": "07be090c",
   "metadata": {},
   "source": [
    "# Python Lab - Day2 "
   ]
  },
  {
   "cell_type": "markdown",
   "id": "abbbab95",
   "metadata": {},
   "source": [
    "## 1-Write a program that counts up the number of vowels [a, e, i, o, u] contained in the string."
   ]
  },
  {
   "cell_type": "code",
   "execution_count": 14,
   "id": "c85c7f9c",
   "metadata": {},
   "outputs": [
    {
     "name": "stdout",
     "output_type": "stream",
     "text": [
      "Enter Text Hello World\n",
      "3\n"
     ]
    }
   ],
   "source": [
    "s = input('Enter Text')\n",
    "\n",
    "count = 0\n",
    "for char in s:\n",
    "    if char in 'aeiou':\n",
    "        count += 1\n",
    "print(count)    "
   ]
  },
  {
   "cell_type": "markdown",
   "id": "e1ac4635",
   "metadata": {},
   "source": [
    "## 2-  Fill an array of 5 elements from the user, Sort it in descending and ascending orders then display the output"
   ]
  },
  {
   "cell_type": "code",
   "execution_count": 37,
   "id": "557ae03a",
   "metadata": {},
   "outputs": [
    {
     "name": "stdout",
     "output_type": "stream",
     "text": [
      "Enter 5 array values seperated by spaceJava Python C++ Scala SQL\n",
      "\n",
      "       Array Unsorted:\n",
      "        ['Java', 'Python', 'C++', 'Scala', 'SQL']\n",
      "        \n",
      "\n",
      "          Array Sorted ASC:\n",
      "           ['C++', 'Java', 'Python', 'SQL', 'Scala']\n",
      "            \n",
      "          Array Sorted DESC: \n",
      "           ['Scala', 'SQL', 'Python', 'Java', 'C++']\n",
      "          \n"
     ]
    }
   ],
   "source": [
    "arr = input('Enter 5 array values seperated by space')\n",
    "\n",
    "L = list(arr.split())\n",
    "print(f'''\n",
    "       Array Unsorted:\n",
    "        {L}\n",
    "        ''')\n",
    "            \n",
    "if len(L) != 5:\n",
    "        print('Please enter exactly 5 values')\n",
    "        \n",
    "else:\n",
    "    \n",
    "    L.sort()\n",
    "    asc_List = L[:]\n",
    "    \n",
    "   # momkn kman: L.sort(reverse = True)\n",
    "    desc_List = L[::-1]\n",
    "    \n",
    "    print(f'''\n",
    "          Array Sorted ASC:\n",
    "           {asc_List}\n",
    "            \n",
    "          Array Sorted DESC: \n",
    "           {desc_List}\n",
    "          ''')\n"
   ]
  },
  {
   "cell_type": "markdown",
   "id": "ec8daab7",
   "metadata": {},
   "source": [
    "## 3- Write a program that prints the number of times the string 'iti' occurs in anystring."
   ]
  },
  {
   "cell_type": "code",
   "execution_count": 38,
   "id": "7955d715",
   "metadata": {},
   "outputs": [
    {
     "name": "stdout",
     "output_type": "stream",
     "text": [
      "Please Enter Inputiti is short for information technology institute\n",
      "1\n"
     ]
    }
   ],
   "source": [
    "i = input('Please Enter Input')\n",
    "\n",
    "print(i.count('iti'))"
   ]
  },
  {
   "cell_type": "markdown",
   "id": "86f7398b",
   "metadata": {},
   "source": [
    "## 4- Write a program that remove all vowels from the input word and generate a brief version of it."
   ]
  },
  {
   "cell_type": "code",
   "execution_count": 41,
   "id": "0b86c281",
   "metadata": {},
   "outputs": [
    {
     "name": "stdout",
     "output_type": "stream",
     "text": [
      "Please Enter Input This is no 4 in Python Task Day 2\n",
      " Brief Version of \n",
      "             This is no 4 in Python Task Day 2 \n",
      "            is\n",
      "             Ths s n 4 n Pythn Tsk Dy 2\n",
      "            \n"
     ]
    }
   ],
   "source": [
    "i = input('Please Enter Input')\n",
    "\n",
    "vowels = 'aeiou'\n",
    "\n",
    "i_no_vowels = ''.join(char for char in i if char not in vowels)\n",
    "\n",
    "print(f''' Brief Version of \n",
    "            {i} \n",
    "            is\n",
    "            {i_no_vowels}\n",
    "            ''')"
   ]
  },
  {
   "cell_type": "markdown",
   "id": "d657fd49",
   "metadata": {},
   "source": [
    "## 5- Write a program that prints the locations of \"i\" character in any string you added."
   ]
  },
  {
   "cell_type": "code",
   "execution_count": null,
   "id": "6d98aa7b",
   "metadata": {},
   "outputs": [],
   "source": [
    "i = input('Please Enter Input')\n",
    "\n",
    "counter = 0\n",
    "for char in i:\n",
    "    if char == 'i':\n",
    "        print(counter)\n",
    "    counter +=1    "
   ]
  },
  {
   "cell_type": "markdown",
   "id": "338a9fc5",
   "metadata": {},
   "source": [
    "## 6- Write a program that generate a multiplication table from 1 to the number passed."
   ]
  },
  {
   "cell_type": "code",
   "execution_count": 35,
   "id": "67ca6274",
   "metadata": {},
   "outputs": [
    {
     "name": "stdout",
     "output_type": "stream",
     "text": [
      "Please a Enter Number3\n",
      "[[1], [2, 4], [3, 6, 9]]\n"
     ]
    }
   ],
   "source": [
    "num = input('Please a Enter Number')\n",
    "\n",
    "if num.isdigit():\n",
    "    num = int(num)\n",
    "    mult_table = []\n",
    "    \n",
    "    for i in range(1, num + 1):\n",
    "        mults = []\n",
    "        for j in range(1, i + 1):\n",
    "            mults.append(i * j)\n",
    "        mult_table.append(mults)\n",
    "        \n",
    "    print(mult_table)\n",
    "    \n",
    "else:    \n",
    "    print('Entry not accepted, Please Enter Numeric Value')\n"
   ]
  },
  {
   "cell_type": "markdown",
   "id": "f6af1b99",
   "metadata": {},
   "source": [
    "## 7- Write a program that build a Mario pyramid"
   ]
  },
  {
   "cell_type": "code",
   "execution_count": 33,
   "id": "00481bec",
   "metadata": {},
   "outputs": [
    {
     "name": "stdout",
     "output_type": "stream",
     "text": [
      "Please a Enter Number4\n",
      "   *\n",
      "  **\n",
      " ***\n",
      "****\n"
     ]
    }
   ],
   "source": [
    "num = input('Please a Enter Number')\n",
    "\n",
    "if num.isdigit():\n",
    "    num = int(num)\n",
    "    \n",
    "    for i in range(1, num + 1):\n",
    "        stars = '*' * i\n",
    "        spaces = ' ' * (num - i)\n",
    "        row = spaces + stars\n",
    "        \n",
    "        print(row)\n",
    "\n",
    "else:\n",
    "    print('Entry not accepted, Please Enter Numeric Value')\n"
   ]
  },
  {
   "cell_type": "code",
   "execution_count": null,
   "id": "bfb764e6",
   "metadata": {},
   "outputs": [],
   "source": []
  }
 ],
 "metadata": {
  "kernelspec": {
   "display_name": "Python 3 (ipykernel)",
   "language": "python",
   "name": "python3"
  },
  "language_info": {
   "codemirror_mode": {
    "name": "ipython",
    "version": 3
   },
   "file_extension": ".py",
   "mimetype": "text/x-python",
   "name": "python",
   "nbconvert_exporter": "python",
   "pygments_lexer": "ipython3",
   "version": "3.10.9"
  }
 },
 "nbformat": 4,
 "nbformat_minor": 5
}
